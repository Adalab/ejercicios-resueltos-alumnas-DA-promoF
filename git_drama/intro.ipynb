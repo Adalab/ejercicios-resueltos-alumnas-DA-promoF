{
 "cells": [
  {
   "cell_type": "markdown",
   "metadata": {},
   "source": [
    "# Hola chicas!!! \n",
    "\n",
    "Vamos a liarla con git jejeejej a ver si le cogemos el truquillo :D \n",
    "\n",
    "Sois bienvenidas a toquetear este archivo, meter nuevos, hacer branches o lo que sea!!! "
   ]
  }
 ],
 "metadata": {
  "language_info": {
   "name": "python"
  }
 },
 "nbformat": 4,
 "nbformat_minor": 2
}
